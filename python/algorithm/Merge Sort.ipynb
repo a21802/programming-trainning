{
 "cells": [
  {
   "cell_type": "code",
   "execution_count": 46,
   "metadata": {},
   "outputs": [],
   "source": [
    "def sortMerge(Ary):\n",
    "   length = len(Ary) \n",
    "   if length > 1:\n",
    "      base = length // 2      #取整數商\n",
    "      leftArray = Ary[:base]  #取得數列左半部資料\n",
    "      rightArray = Ary[base:] #取得數列右半部資料\n",
    "\n",
    "      sortMerge(leftArray)    #針對數列左半部呼叫自身(遞廻)\n",
    "      sortMerge(rightArray)   #針對數列右半部呼叫自身(遞廻)\n",
    "      \n",
    "      sini = ridx = idx = 0   #左、右、陣列的索引\n",
    "      leftLen = len(leftArray)\n",
    "      rightLen = len(rightArray)\n",
    "\n",
    "      while sini < leftLen and ridx < rightLen:\n",
    "         if leftArray[sini] < rightArray[ridx]:   \n",
    "            Ary[idx] = leftArray[sini]  #左半部小值設給陣列\n",
    "            sini += 1\n",
    "         else:\n",
    "            Ary[idx] = rightArray[ridx] #右半部若比較小就賦予陣列\n",
    "            ridx += 1\n",
    "         idx += 1 \n",
    "\n",
    "      while sini < leftLen:  #左半部的長度小於陣列\n",
    "         Ary[idx] = leftArray[sini]\n",
    "         sini += 1; idx += 1\n",
    "      \n",
    "      while ridx < rightLen: #右半部的長度小於陣列\n",
    "         Ary[idx] = rightArray[ridx]\n",
    "         ridx += 1; idx += 1"
   ]
  },
  {
   "cell_type": "code",
   "execution_count": 49,
   "metadata": {},
   "outputs": [
    {
     "data": {
      "text/plain": [
       "[13, 76, 46, 16, 68, 33, 24, 57, 16, 79]"
      ]
     },
     "execution_count": 49,
     "metadata": {},
     "output_type": "execute_result"
    }
   ],
   "source": [
    "import numpy as np\n",
    "data = list(np.random.randint(100, size = 10))\n",
    "data"
   ]
  },
  {
   "cell_type": "code",
   "execution_count": 50,
   "metadata": {},
   "outputs": [
    {
     "data": {
      "text/plain": [
       "[13, 16, 16, 24, 33, 46, 57, 68, 76, 79]"
      ]
     },
     "execution_count": 50,
     "metadata": {},
     "output_type": "execute_result"
    }
   ],
   "source": [
    "sortMerge(data)\n",
    "data"
   ]
  },
  {
   "cell_type": "code",
   "execution_count": null,
   "metadata": {},
   "outputs": [],
   "source": []
  }
 ],
 "metadata": {
  "kernelspec": {
   "display_name": "Python 3",
   "language": "python",
   "name": "python3"
  },
  "language_info": {
   "codemirror_mode": {
    "name": "ipython",
    "version": 3
   },
   "file_extension": ".py",
   "mimetype": "text/x-python",
   "name": "python",
   "nbconvert_exporter": "python",
   "pygments_lexer": "ipython3",
   "version": "3.7.3"
  }
 },
 "nbformat": 4,
 "nbformat_minor": 2
}

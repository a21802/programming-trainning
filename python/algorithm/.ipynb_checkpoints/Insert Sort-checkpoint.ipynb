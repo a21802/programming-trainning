{
 "cells": [
  {
   "cell_type": "markdown",
   "metadata": {},
   "source": [
    "<hr>\n",
    "<h3>演算法流程:</h3><br>\n",
    "將資料分為已排序(左)與未排序(右)<br>\n",
    "未排序的第一筆資料插入到已排序的資料中<br>\n",
    "插入時由右至左比較, 途中若遇的值比正在處理的值大, 則右移\n",
    "<hr>"
   ]
  },
  {
   "cell_type": "code",
   "execution_count": 103,
   "metadata": {},
   "outputs": [],
   "source": [
    "from copy import deepcopy as cd\n",
    "\n",
    "def insertSort(data):\n",
    "    print('org:')\n",
    "    print('\\t', data)\n",
    "    size = len(data)\n",
    "    \n",
    "    for i in range(1, size):\n",
    "        j = i - 1      #i為未排序資料第一項, i-1為已排序資料最後一項\n",
    "        temp = data[i]\n",
    "        print('='*50)\n",
    "        print('i = ', i, '\\ntemp = ', temp)\n",
    "        while data[j] > temp and j >= 0:\n",
    "            data[j + 1] = data[j] #資料右移\n",
    "            j -= 1\n",
    "        data[j + 1] = temp\n",
    "        print('\\t', data)\n",
    "    \n",
    "    print('='*50)\n",
    "    print('end:')\n",
    "    print('\\t', data)"
   ]
  },
  {
   "cell_type": "code",
   "execution_count": 104,
   "metadata": {},
   "outputs": [],
   "source": [
    "import numpy as np\n",
    "np.random.seed(12)\n",
    "data = list(np.random.randint(100, size = 10))"
   ]
  },
  {
   "cell_type": "code",
   "execution_count": 105,
   "metadata": {},
   "outputs": [
    {
     "name": "stdout",
     "output_type": "stream",
     "text": [
      "org:\n",
      "\t [75, 27, 6, 2, 3, 67, 76, 48, 22, 49]\n",
      "==================================================\n",
      "i =  1 \n",
      "temp =  27\n",
      "\t [27, 75, 6, 2, 3, 67, 76, 48, 22, 49]\n",
      "==================================================\n",
      "i =  2 \n",
      "temp =  6\n",
      "\t [6, 27, 75, 2, 3, 67, 76, 48, 22, 49]\n",
      "==================================================\n",
      "i =  3 \n",
      "temp =  2\n",
      "\t [2, 6, 27, 75, 3, 67, 76, 48, 22, 49]\n",
      "==================================================\n",
      "i =  4 \n",
      "temp =  3\n",
      "\t [2, 3, 6, 27, 75, 67, 76, 48, 22, 49]\n",
      "==================================================\n",
      "i =  5 \n",
      "temp =  67\n",
      "\t [2, 3, 6, 27, 67, 75, 76, 48, 22, 49]\n",
      "==================================================\n",
      "i =  6 \n",
      "temp =  76\n",
      "\t [2, 3, 6, 27, 67, 75, 76, 48, 22, 49]\n",
      "==================================================\n",
      "i =  7 \n",
      "temp =  48\n",
      "\t [2, 3, 6, 27, 48, 67, 75, 76, 22, 49]\n",
      "==================================================\n",
      "i =  8 \n",
      "temp =  22\n",
      "\t [2, 3, 6, 22, 27, 48, 67, 75, 76, 49]\n",
      "==================================================\n",
      "i =  9 \n",
      "temp =  49\n",
      "\t [2, 3, 6, 22, 27, 48, 49, 67, 75, 76]\n",
      "==================================================\n",
      "end:\n",
      "\t [2, 3, 6, 22, 27, 48, 49, 67, 75, 76]\n"
     ]
    }
   ],
   "source": [
    "insertSort(data)"
   ]
  },
  {
   "cell_type": "code",
   "execution_count": null,
   "metadata": {},
   "outputs": [],
   "source": []
  },
  {
   "cell_type": "code",
   "execution_count": null,
   "metadata": {},
   "outputs": [],
   "source": []
  }
 ],
 "metadata": {
  "kernelspec": {
   "display_name": "Python 3",
   "language": "python",
   "name": "python3"
  },
  "language_info": {
   "codemirror_mode": {
    "name": "ipython",
    "version": 3
   },
   "file_extension": ".py",
   "mimetype": "text/x-python",
   "name": "python",
   "nbconvert_exporter": "python",
   "pygments_lexer": "ipython3",
   "version": "3.6.8"
  }
 },
 "nbformat": 4,
 "nbformat_minor": 2
}

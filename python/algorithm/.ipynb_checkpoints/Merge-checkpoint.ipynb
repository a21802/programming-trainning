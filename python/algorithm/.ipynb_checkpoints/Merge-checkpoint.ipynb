{
 "cells": [
  {
   "cell_type": "code",
   "execution_count": 35,
   "metadata": {},
   "outputs": [],
   "source": [
    "def sortMerge(Ary):\n",
    "   length = len(Ary) \n",
    "   if length > 1:\n",
    "      base = length // 2      #取整數商\n",
    "      leftArray = Ary[:base]  #取得數列左半部資料\n",
    "      rightArray = Ary[base:] #取得數列右半部資料\n",
    "\n",
    "      sortMerge(leftArray)    #針對數列左半部呼叫自身(遞廻)\n",
    "      sortMerge(rightArray)   #針對數列右半部呼叫自身(遞廻)\n",
    "      \n",
    "      sini = ridx = idx = 0   #左、右、陣列的索引\n",
    "      leftLen = len(leftArray)\n",
    "      rightLen = len(rightArray)\n",
    "\n",
    "      while sini < leftLen and ridx < rightLen:\n",
    "         if leftArray[sini] < rightArray[ridx]:   \n",
    "            Ary[idx] = leftArray[sini]  #左半部小值設給陣列\n",
    "            sini += 1\n",
    "         else:\n",
    "            Ary[idx] = rightArray[ridx] #右半部若比較小就賦予陣列\n",
    "            ridx += 1\n",
    "         idx += 1 \n",
    "\n",
    "      while sini < leftLen:  #左半部的長度小於陣列\n",
    "         Ary[idx] = leftArray[sini]\n",
    "         sini += 1; idx += 1\n",
    "      \n",
    "      while ridx < rightLen: #右半部的長度小於陣列\n",
    "         Ary[idx] = rightArray[ridx]\n",
    "         ridx += 1; idx += 1"
   ]
  },
  {
   "cell_type": "code",
   "execution_count": 44,
   "metadata": {},
   "outputs": [
    {
     "data": {
      "text/plain": [
       "[15, 86, 95, 19, 16, 32, 70, 6, 14, 92]"
      ]
     },
     "execution_count": 44,
     "metadata": {},
     "output_type": "execute_result"
    }
   ],
   "source": [
    "import numpy as np\n",
    "data = list(np.random.randint(100, size = 10))\n",
    "data"
   ]
  },
  {
   "cell_type": "code",
   "execution_count": 45,
   "metadata": {},
   "outputs": [
    {
     "name": "stdout",
     "output_type": "stream",
     "text": [
      "分割數列 [15, 86, 95, 19, 16, 32, 70, 6, 14, 92]\n",
      "分割數列 [15, 86, 95, 19, 16]\n",
      "分割數列 [15, 86]\n",
      "分割數列 [15]\n",
      "分割數列 [86]\n",
      "分割數列 [95, 19, 16]\n",
      "分割數列 [95]\n",
      "分割數列 [19, 16]\n",
      "分割數列 [19]\n",
      "分割數列 [16]\n",
      "分割數列 [32, 70, 6, 14, 92]\n",
      "分割數列 [32, 70]\n",
      "分割數列 [32]\n",
      "分割數列 [70]\n",
      "分割數列 [6, 14, 92]\n",
      "分割數列 [6]\n",
      "分割數列 [14, 92]\n",
      "分割數列 [14]\n",
      "分割數列 [92]\n"
     ]
    },
    {
     "data": {
      "text/plain": [
       "[6, 14, 15, 16, 19, 32, 70, 86, 92, 95]"
      ]
     },
     "execution_count": 45,
     "metadata": {},
     "output_type": "execute_result"
    }
   ],
   "source": [
    "sortMerge(data)\n",
    "data"
   ]
  },
  {
   "cell_type": "code",
   "execution_count": null,
   "metadata": {},
   "outputs": [],
   "source": []
  }
 ],
 "metadata": {
  "kernelspec": {
   "display_name": "Python 3",
   "language": "python",
   "name": "python3"
  },
  "language_info": {
   "codemirror_mode": {
    "name": "ipython",
    "version": 3
   },
   "file_extension": ".py",
   "mimetype": "text/x-python",
   "name": "python",
   "nbconvert_exporter": "python",
   "pygments_lexer": "ipython3",
   "version": "3.7.3"
  }
 },
 "nbformat": 4,
 "nbformat_minor": 2
}

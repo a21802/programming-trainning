{
 "cells": [
  {
   "cell_type": "code",
   "execution_count": 38,
   "metadata": {},
   "outputs": [],
   "source": [
    "def shell(data):\n",
    "    k = 1 #k列印計數\n",
    "    size = len(data)\n",
    "    jmp = size // 2\n",
    "    while jmp != 0:\n",
    "        for i in range(jmp, size):  #i為掃描次數 jmp為設定間距位移量\n",
    "            tmp = data[i] #tmp用來暫存資料\n",
    "            j = i - jmp  #以j來定位比較的元素\n",
    "            while tmp < data[j] and j >= 0:  #插入排序法\n",
    "                data[j + jmp] = data[j]\n",
    "                j = j - jmp\n",
    "            data[jmp + j] = tmp\n",
    "        print('第 %d 次排序過程：' %k, end='')  \n",
    "        k += 1\n",
    "        print(data)\n",
    "        print('-----------------------------------------')\n",
    "        jmp = jmp // 2"
   ]
  },
  {
   "cell_type": "code",
   "execution_count": 39,
   "metadata": {},
   "outputs": [],
   "source": [
    "import numpy as np\n",
    "data = np.random.randint(100, size = 10)"
   ]
  },
  {
   "cell_type": "code",
   "execution_count": 40,
   "metadata": {},
   "outputs": [
    {
     "data": {
      "text/plain": [
       "array([32, 55, 51, 76, 22, 30, 62,  2, 42, 87])"
      ]
     },
     "execution_count": 40,
     "metadata": {},
     "output_type": "execute_result"
    }
   ],
   "source": [
    "data"
   ]
  },
  {
   "cell_type": "code",
   "execution_count": 41,
   "metadata": {},
   "outputs": [
    {
     "name": "stdout",
     "output_type": "stream",
     "text": [
      "第 1 次排序過程：[30 55  2 42 22 32 62 51 76 87]\n",
      "-----------------------------------------\n",
      "第 2 次排序過程：[ 2 32 22 42 30 51 62 55 76 87]\n",
      "-----------------------------------------\n",
      "第 3 次排序過程：[ 2 22 30 32 42 51 55 62 76 87]\n",
      "-----------------------------------------\n"
     ]
    }
   ],
   "source": [
    "shell(data)"
   ]
  },
  {
   "cell_type": "code",
   "execution_count": null,
   "metadata": {},
   "outputs": [],
   "source": []
  }
 ],
 "metadata": {
  "kernelspec": {
   "display_name": "Python 3",
   "language": "python",
   "name": "python3"
  },
  "language_info": {
   "codemirror_mode": {
    "name": "ipython",
    "version": 3
   },
   "file_extension": ".py",
   "mimetype": "text/x-python",
   "name": "python",
   "nbconvert_exporter": "python",
   "pygments_lexer": "ipython3",
   "version": "3.7.3"
  }
 },
 "nbformat": 4,
 "nbformat_minor": 2
}

{
 "cells": [
  {
   "cell_type": "markdown",
   "metadata": {},
   "source": [
    "<hr>\n",
    "<h3>演算法流程:</h3><br>\n",
    "將資料依特定間隔(gap)分組進行插入排序法,<br>\n",
    "再<b>逐漸減少間隔的大小</b>(gap//2), 可減少插入演算法中資料搬移次數\n",
    "<hr>"
   ]
  },
  {
   "cell_type": "code",
   "execution_count": 53,
   "metadata": {},
   "outputs": [],
   "source": [
    "def shellSort(data):\n",
    "    print('org:')\n",
    "    print('\\t', data)\n",
    "    k = 1 #k列印計數\n",
    "    size = len(data)\n",
    "    gap = size // 2\n",
    "    while gap != 0:\n",
    "        print('='*50)\n",
    "        print('k = ', k, '\\ngap = ', gap)\n",
    "        for i in range(gap, size):  #i為掃描次數 jmp為設定間距位移量\n",
    "            tmp = data[i] #tmp用來暫存資料\n",
    "            j = i - gap  #以j來定位比較的元素\n",
    "            print('temp =', tmp)\n",
    "            while tmp < data[j] and j >= 0:  #插入排序法\n",
    "                data[j + gap] = data[j]\n",
    "                j = j - gap\n",
    "            data[gap + j] = tmp \n",
    "            print('\\t', data)\n",
    "        k += 1\n",
    "        gap = gap // 2\n",
    "    print('='*50)   \n",
    "    print('end:')\n",
    "    print('\\t', data)        "
   ]
  },
  {
   "cell_type": "code",
   "execution_count": 54,
   "metadata": {},
   "outputs": [],
   "source": [
    "import numpy as np\n",
    "data = list(np.random.randint(100, size = 10))"
   ]
  },
  {
   "cell_type": "code",
   "execution_count": 56,
   "metadata": {},
   "outputs": [
    {
     "name": "stdout",
     "output_type": "stream",
     "text": [
      "org:\n",
      "\t [41, 44, 51, 35, 61, 71, 18, 6, 34, 71]\n",
      "==================================================\n",
      "k =  1 \n",
      "gap =  5\n",
      "temp = 71\n",
      "\t [41, 44, 51, 35, 61, 71, 18, 6, 34, 71]\n",
      "temp = 18\n",
      "\t [41, 18, 51, 35, 61, 71, 44, 6, 34, 71]\n",
      "temp = 6\n",
      "\t [41, 18, 6, 35, 61, 71, 44, 51, 34, 71]\n",
      "temp = 34\n",
      "\t [41, 18, 6, 34, 61, 71, 44, 51, 35, 71]\n",
      "temp = 71\n",
      "\t [41, 18, 6, 34, 61, 71, 44, 51, 35, 71]\n",
      "==================================================\n",
      "k =  2 \n",
      "gap =  2\n",
      "temp = 6\n",
      "\t [6, 18, 41, 34, 61, 71, 44, 51, 35, 71]\n",
      "temp = 34\n",
      "\t [6, 18, 41, 34, 61, 71, 44, 51, 35, 71]\n",
      "temp = 61\n",
      "\t [6, 18, 41, 34, 61, 71, 44, 51, 35, 71]\n",
      "temp = 71\n",
      "\t [6, 18, 41, 34, 61, 71, 44, 51, 35, 71]\n",
      "temp = 44\n",
      "\t [6, 18, 41, 34, 44, 71, 61, 51, 35, 71]\n",
      "temp = 51\n",
      "\t [6, 18, 41, 34, 44, 51, 61, 71, 35, 71]\n",
      "temp = 35\n",
      "\t [6, 18, 35, 34, 41, 51, 44, 71, 61, 71]\n",
      "temp = 71\n",
      "\t [6, 18, 35, 34, 41, 51, 44, 71, 61, 71]\n",
      "==================================================\n",
      "k =  3 \n",
      "gap =  1\n",
      "temp = 18\n",
      "\t [6, 18, 35, 34, 41, 51, 44, 71, 61, 71]\n",
      "temp = 35\n",
      "\t [6, 18, 35, 34, 41, 51, 44, 71, 61, 71]\n",
      "temp = 34\n",
      "\t [6, 18, 34, 35, 41, 51, 44, 71, 61, 71]\n",
      "temp = 41\n",
      "\t [6, 18, 34, 35, 41, 51, 44, 71, 61, 71]\n",
      "temp = 51\n",
      "\t [6, 18, 34, 35, 41, 51, 44, 71, 61, 71]\n",
      "temp = 44\n",
      "\t [6, 18, 34, 35, 41, 44, 51, 71, 61, 71]\n",
      "temp = 71\n",
      "\t [6, 18, 34, 35, 41, 44, 51, 71, 61, 71]\n",
      "temp = 61\n",
      "\t [6, 18, 34, 35, 41, 44, 51, 61, 71, 71]\n",
      "temp = 71\n",
      "\t [6, 18, 34, 35, 41, 44, 51, 61, 71, 71]\n",
      "==================================================\n",
      "end:\n",
      "\t [6, 18, 34, 35, 41, 44, 51, 61, 71, 71]\n"
     ]
    }
   ],
   "source": [
    "shellSort(data)"
   ]
  },
  {
   "cell_type": "code",
   "execution_count": null,
   "metadata": {},
   "outputs": [],
   "source": []
  }
 ],
 "metadata": {
  "kernelspec": {
   "display_name": "Python 3",
   "language": "python",
   "name": "python3"
  },
  "language_info": {
   "codemirror_mode": {
    "name": "ipython",
    "version": 3
   },
   "file_extension": ".py",
   "mimetype": "text/x-python",
   "name": "python",
   "nbconvert_exporter": "python",
   "pygments_lexer": "ipython3",
   "version": "3.6.8"
  }
 },
 "nbformat": 4,
 "nbformat_minor": 2
}

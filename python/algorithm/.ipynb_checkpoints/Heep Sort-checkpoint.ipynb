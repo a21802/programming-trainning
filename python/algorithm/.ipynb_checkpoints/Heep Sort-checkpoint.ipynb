{
 "cells": [
  {
   "cell_type": "code",
   "execution_count": 1,
   "metadata": {},
   "outputs": [],
   "source": [
    "def heap(data,size):\n",
    "    for i in range(int(size/2),0,-1):#建立最大堆積樹\n",
    "        ad_heap(data,i,size-1)\n",
    "    print()\n",
    "    print('堆積內容：',end='')       #原始堆積樹內容\n",
    "    for i in range(1,size):         \n",
    "        print('[%2d] ' %data[i],end='')\n",
    "    print('\\n')\n",
    "    for i in range(size-2,0,-1):    #堆積排序\n",
    "        data[i+1],data[1]=data[1],data[i+1]\n",
    "        ad_heap(data,1,i)           #處理剩餘節點\n",
    "        print('處理過程：',end='')\n",
    "        for j in range(1,size):\n",
    "            print('[%2d] ' %data[j],end='')\n",
    "        print()\n",
    "\n",
    "def ad_heap(data,i,size):\n",
    "    '''協助建立最大堆積樹'''\n",
    "    j=2*i\n",
    "    tmp=data[i]\n",
    "    post=0\n",
    "    while j<=size and post==0:\n",
    "        if j<size:\n",
    "            if data[j]<data[j+1]: #找出最大節點\n",
    "                j+=1\n",
    "        if tmp>=data[j]:          #若樹根較大，結束比較過程\n",
    "            post=1\n",
    "        else:\n",
    "            data[int(j/2)]=data[j]#若樹根較小，則繼續比較\n",
    "            j=2*j\n",
    "    data[int(j/2)]=tmp            #指定樹根為父節點\n",
    "\n",
    "def main():\n",
    "    data=[0,5,6,4,8,3,2,7,1]\n",
    "    size=9\n",
    "    print('原始陣列：',end='')\n",
    "    for i in range(1,size):\n",
    "        print('[%2d] ' %data[i],end='')\n",
    "    heap(data,size)               #建立堆積樹\n",
    "    print('排序結果：',end='')\n",
    "    for i in range(1,size):\n",
    "        print('[%2d] ' %data[i],end='')\n",
    "        "
   ]
  },
  {
   "cell_type": "code",
   "execution_count": 12,
   "metadata": {},
   "outputs": [],
   "source": [
    "import numpy as np\n",
    "data = [0] + list(np.random.randint(100, size = 10))"
   ]
  },
  {
   "cell_type": "code",
   "execution_count": 13,
   "metadata": {},
   "outputs": [
    {
     "data": {
      "text/plain": [
       "[0, 88, 6, 96, 2, 45, 16, 47, 22, 50, 43]"
      ]
     },
     "execution_count": 13,
     "metadata": {},
     "output_type": "execute_result"
    }
   ],
   "source": [
    "data"
   ]
  },
  {
   "cell_type": "code",
   "execution_count": 15,
   "metadata": {},
   "outputs": [
    {
     "name": "stdout",
     "output_type": "stream",
     "text": [
      "\n",
      "堆積內容：[96] [50] [88] [22] [45] [16] [47] [ 6] [ 2] [43] \n",
      "\n",
      "處理過程：[88] [50] [47] [22] [45] [16] [43] [ 6] [ 2] [96] \n",
      "處理過程：[50] [45] [47] [22] [ 2] [16] [43] [ 6] [88] [96] \n",
      "處理過程：[47] [45] [43] [22] [ 2] [16] [ 6] [50] [88] [96] \n",
      "處理過程：[45] [22] [43] [ 6] [ 2] [16] [47] [50] [88] [96] \n",
      "處理過程：[43] [22] [16] [ 6] [ 2] [45] [47] [50] [88] [96] \n",
      "處理過程：[22] [ 6] [16] [ 2] [43] [45] [47] [50] [88] [96] \n",
      "處理過程：[16] [ 6] [ 2] [22] [43] [45] [47] [50] [88] [96] \n",
      "處理過程：[ 6] [ 2] [16] [22] [43] [45] [47] [50] [88] [96] \n",
      "處理過程：[ 2] [ 6] [16] [22] [43] [45] [47] [50] [88] [96] \n"
     ]
    }
   ],
   "source": [
    "heap(data, len(data))"
   ]
  },
  {
   "cell_type": "code",
   "execution_count": null,
   "metadata": {},
   "outputs": [],
   "source": []
  }
 ],
 "metadata": {
  "kernelspec": {
   "display_name": "Python 3",
   "language": "python",
   "name": "python3"
  },
  "language_info": {
   "codemirror_mode": {
    "name": "ipython",
    "version": 3
   },
   "file_extension": ".py",
   "mimetype": "text/x-python",
   "name": "python",
   "nbconvert_exporter": "python",
   "pygments_lexer": "ipython3",
   "version": "3.7.3"
  }
 },
 "nbformat": 4,
 "nbformat_minor": 2
}

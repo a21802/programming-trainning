{
 "cells": [
  {
   "cell_type": "code",
   "execution_count": 1,
   "metadata": {},
   "outputs": [],
   "source": [
    "# 產生費氏數列\n",
    "def fibo(num):\n",
    "    fib = []\n",
    "    a = 0\n",
    "    b = 1\n",
    "    fib.append(a)\n",
    "    for i in range(num):\n",
    "        a, b = b, a + b\n",
    "        fib.append(a)\n",
    "    return fib\n",
    "\n",
    "def getY(fib, n):\n",
    "    i = 0\n",
    "    while fib[i] <= n:\n",
    "        i += 1\n",
    "    return i - 1\n",
    "\n",
    "def search(data, key):\n",
    "    fib = fibo(len(data))\n",
    "    maxIndex = len(data) - 1  # data的最大索引值\n",
    "    y = getY(fib, maxIndex + 1) # 在費氏數列裡的值，如果比data的最大索引值還大，回傳費氏數列索引值的前一個\n",
    "    m = maxIndex - fib[y] \n",
    "    i = x = y - 1  #找到在data搜尋的起始索引值\n",
    "    print(\"\\nx=%d, y=%d, m=%d, fib[x]=%d\" % (x, y, m, fib[x]))\n",
    "    \n",
    "    if data[i] < key:\n",
    "        i += m\n",
    "    while fib[x] > 0:\n",
    "        if data[i] < key:\n",
    "            x -= 1\n",
    "            i += fib[x]\n",
    "        elif data[i] > key:\n",
    "            x -= 1\n",
    "            i -= fib[x]\n",
    "        else:\n",
    "            return i\n",
    "    return -1"
   ]
  },
  {
   "cell_type": "code",
   "execution_count": 2,
   "metadata": {},
   "outputs": [
    {
     "data": {
      "text/plain": [
       "[0, 1, 1, 2, 3, 5, 8, 13]"
      ]
     },
     "execution_count": 2,
     "metadata": {},
     "output_type": "execute_result"
    }
   ],
   "source": [
    "fibo(7)"
   ]
  },
  {
   "cell_type": "code",
   "execution_count": 3,
   "metadata": {},
   "outputs": [
    {
     "data": {
      "text/plain": [
       "[2, 3, 6, 22, 27, 48, 49, 67, 75, 76]"
      ]
     },
     "execution_count": 3,
     "metadata": {},
     "output_type": "execute_result"
    }
   ],
   "source": [
    "import numpy as np\n",
    "np.random.seed(12)\n",
    "data = list(np.random.randint(100, size = 10))\n",
    "data = sorted(data)\n",
    "data"
   ]
  },
  {
   "cell_type": "code",
   "execution_count": 4,
   "metadata": {},
   "outputs": [
    {
     "name": "stdout",
     "output_type": "stream",
     "text": [
      "\n",
      "x=5, y=6, m=1, fib[x]=5\n"
     ]
    },
    {
     "data": {
      "text/plain": [
       "6"
      ]
     },
     "execution_count": 4,
     "metadata": {},
     "output_type": "execute_result"
    }
   ],
   "source": [
    "search(data, 49)"
   ]
  },
  {
   "cell_type": "code",
   "execution_count": 5,
   "metadata": {},
   "outputs": [
    {
     "name": "stdout",
     "output_type": "stream",
     "text": [
      "\n",
      "x=5, y=6, m=2, fib[x]=5\n"
     ]
    },
    {
     "data": {
      "text/plain": [
       "-1"
      ]
     },
     "execution_count": 5,
     "metadata": {},
     "output_type": "execute_result"
    }
   ],
   "source": [
    "search([49, 54, 69, 74, 118, 130, 141, 152, 163, 186, 432], 100)"
   ]
  },
  {
   "cell_type": "code",
   "execution_count": null,
   "metadata": {},
   "outputs": [],
   "source": []
  }
 ],
 "metadata": {
  "kernelspec": {
   "display_name": "Python 3",
   "language": "python",
   "name": "python3"
  },
  "language_info": {
   "codemirror_mode": {
    "name": "ipython",
    "version": 3
   },
   "file_extension": ".py",
   "mimetype": "text/x-python",
   "name": "python",
   "nbconvert_exporter": "python",
   "pygments_lexer": "ipython3",
   "version": "3.7.3"
  }
 },
 "nbformat": 4,
 "nbformat_minor": 2
}

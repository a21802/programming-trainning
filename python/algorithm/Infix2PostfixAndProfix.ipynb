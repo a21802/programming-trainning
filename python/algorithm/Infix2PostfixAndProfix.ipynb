{
 "cells": [
  {
   "cell_type": "code",
   "execution_count": 2,
   "metadata": {},
   "outputs": [
    {
     "name": "stdout",
     "output_type": "stream",
     "text": [
      "ABCD+/-ABCD-/+*\n",
      "*-A/B+CD+A/B-CD\n"
     ]
    }
   ],
   "source": [
    "def priority(op):\n",
    "    return 1 if op in \"+-\" else 2 if op in \"*/\" else 0\n",
    "    \n",
    "def toPostfix(infix, isPost = True):\n",
    "    toStack, toOutput = ('(', ')') if isPost else (')', '(')\n",
    "    \n",
    "    def procOpt(c, stack, output):\n",
    "        if stack == \"\" or priority(stack[-1]) < priority(c):\n",
    "            return (stack + c, output)\n",
    "        else:\n",
    "            return procOpt(c, stack[0:-1], output + stack[-1])\n",
    "    \n",
    "    def procPhs(stack, output):\n",
    "        if stack[-1] == toStack:\n",
    "            return (stack[0:-1], output)\n",
    "        else:\n",
    "            return procPhs(stack[0:-1], output + stack[-1])\n",
    "            \n",
    "    def procExpr(expr, stack = \"\", output = \"\"):\n",
    "        if expr == \"\":\n",
    "            return output + stack[::-1]\n",
    "        elif expr[0] == toStack:\n",
    "            return procExpr(expr[1:], stack + expr[0], output)\n",
    "        elif expr[0] in \"+-*/\":\n",
    "            return procExpr(expr[1:], *procOpt(expr[0], stack, output))\n",
    "        elif expr[0] == toOutput:\n",
    "            return procExpr(expr[1:], *procPhs(stack, output))\n",
    "        else:\n",
    "            return procExpr(expr[1:], stack, output + expr[0])\n",
    "    \n",
    "    output = procExpr(infix if isPost else infix[::-1])\n",
    "    return output if isPost else output[::-1]\n",
    "\n",
    "def toPrefix(infix):\n",
    "    return toPostfix(infix, False)\n",
    "    \n",
    "infix = \"(A-B/(C+D))*(A+B/(C-D))\"\n",
    "print(toPostfix(infix))\n",
    "print(toPrefix(infix))"
   ]
  },
  {
   "cell_type": "code",
   "execution_count": null,
   "metadata": {},
   "outputs": [],
   "source": []
  }
 ],
 "metadata": {
  "kernelspec": {
   "display_name": "Python 3",
   "language": "python",
   "name": "python3"
  },
  "language_info": {
   "codemirror_mode": {
    "name": "ipython",
    "version": 3
   },
   "file_extension": ".py",
   "mimetype": "text/x-python",
   "name": "python",
   "nbconvert_exporter": "python",
   "pygments_lexer": "ipython3",
   "version": "3.7.3"
  }
 },
 "nbformat": 4,
 "nbformat_minor": 2
}

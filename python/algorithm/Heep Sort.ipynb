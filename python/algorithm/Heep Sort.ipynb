{
 "cells": [
  {
   "cell_type": "code",
   "execution_count": 18,
   "metadata": {},
   "outputs": [],
   "source": [
    "def heap(data,size):\n",
    "    for i in range(int(size/2),0,-1):#建立最大堆積樹\n",
    "        ad_heap(data,i,size-1)\n",
    "    print()\n",
    "    print('堆積內容：',end='')       #原始堆積樹內容\n",
    "    for i in range(1,size):         \n",
    "        print('[%2d] ' %data[i],end='')\n",
    "    print('\\n')\n",
    "    for i in range(size-2,0,-1):    #堆積排序\n",
    "        data[i+1],data[1]=data[1],data[i+1]\n",
    "        ad_heap(data,1,i)           #處理剩餘節點\n",
    "        print('處理過程：',end='')\n",
    "        for j in range(1,size):\n",
    "            print('[%2d] ' %data[j],end='')\n",
    "        print()\n",
    "\n",
    "def ad_heap(data,i,size):\n",
    "    '''協助建立最大堆積樹'''\n",
    "    j=2*i\n",
    "    tmp=data[i]\n",
    "    post=0\n",
    "    while j<=size and post==0:\n",
    "        if j<size:\n",
    "            if data[j]<data[j+1]: #找出最大節點\n",
    "                j+=1\n",
    "        if tmp>=data[j]:          #若樹根較大，結束比較過程\n",
    "            post=1\n",
    "        else:\n",
    "            data[int(j/2)]=data[j]#若樹根較小，則繼續比較\n",
    "            j=2*j\n",
    "    data[int(j/2)]=tmp            #指定樹根為父節點\n",
    "        "
   ]
  },
  {
   "cell_type": "code",
   "execution_count": 22,
   "metadata": {},
   "outputs": [],
   "source": [
    "import numpy as np\n",
    "data = [0] + list(np.random.randint(100, size = 10))"
   ]
  },
  {
   "cell_type": "code",
   "execution_count": 23,
   "metadata": {},
   "outputs": [
    {
     "data": {
      "text/plain": [
       "[0, 92, 60, 48, 1, 68, 31, 68, 79, 36, 90]"
      ]
     },
     "execution_count": 23,
     "metadata": {},
     "output_type": "execute_result"
    }
   ],
   "source": [
    "data"
   ]
  },
  {
   "cell_type": "code",
   "execution_count": 24,
   "metadata": {},
   "outputs": [
    {
     "name": "stdout",
     "output_type": "stream",
     "text": [
      "\n",
      "堆積內容：[92] [90] [68] [79] [68] [31] [48] [ 1] [36] [60] \n",
      "\n",
      "處理過程：[90] [79] [68] [60] [68] [31] [48] [ 1] [36] [92] \n",
      "處理過程：[79] [68] [68] [60] [36] [31] [48] [ 1] [90] [92] \n",
      "處理過程：[68] [60] [68] [ 1] [36] [31] [48] [79] [90] [92] \n",
      "處理過程：[68] [60] [48] [ 1] [36] [31] [68] [79] [90] [92] \n",
      "處理過程：[60] [36] [48] [ 1] [31] [68] [68] [79] [90] [92] \n",
      "處理過程：[48] [36] [31] [ 1] [60] [68] [68] [79] [90] [92] \n",
      "處理過程：[36] [ 1] [31] [48] [60] [68] [68] [79] [90] [92] \n",
      "處理過程：[31] [ 1] [36] [48] [60] [68] [68] [79] [90] [92] \n",
      "處理過程：[ 1] [31] [36] [48] [60] [68] [68] [79] [90] [92] \n"
     ]
    }
   ],
   "source": [
    "heap(data, len(data))"
   ]
  },
  {
   "cell_type": "code",
   "execution_count": null,
   "metadata": {},
   "outputs": [],
   "source": []
  }
 ],
 "metadata": {
  "kernelspec": {
   "display_name": "Python 3",
   "language": "python",
   "name": "python3"
  },
  "language_info": {
   "codemirror_mode": {
    "name": "ipython",
    "version": 3
   },
   "file_extension": ".py",
   "mimetype": "text/x-python",
   "name": "python",
   "nbconvert_exporter": "python",
   "pygments_lexer": "ipython3",
   "version": "3.7.3"
  }
 },
 "nbformat": 4,
 "nbformat_minor": 2
}

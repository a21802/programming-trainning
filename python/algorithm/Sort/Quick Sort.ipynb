{
 "cells": [
  {
   "cell_type": "markdown",
   "metadata": {},
   "source": [
    "<hr>\n",
    "<h3>演算法流程:</h3><br>\n",
    "選定一個<b>基準值(pivot)</b><br>\n",
    "將<b>比pivot小</b>的數值移到pivot<b>左邊</b>，形成<b>左子串列</b><br>\n",
    "將<b>比pivot大</b>的數值移到pivot<b>右邊</b>，形成<b>右子串列</b><br>\n",
    "分別對<b>左子串列、右子串列</b>作上述三個步驟 ⇒ 遞迴(Recursive) \n",
    "<hr>"
   ]
  },
  {
   "cell_type": "code",
   "execution_count": 37,
   "metadata": {},
   "outputs": [],
   "source": [
    "def quickSort(data, left = 0, right = None):\n",
    "    if right == None:\n",
    "        right = len(data) - 1  # 初始化\n",
    "    if left< right:\n",
    "        pivotIndex = division(data, left, right) # pivotIndex將data分成左右子串列\n",
    "        print('pivot = ', data[pivotIndex])\n",
    "        print('\\t', data)\n",
    "        quickSort(data, left, pivotIndex - 1)   # 將左子串列做遞迴\n",
    "        quickSort(data, pivotIndex + 1, right)  # 將右子串列做遞迴\n",
    "    \n",
    "def division(data, left, right):\n",
    "    index = left\n",
    "    for j in range(left + 1, right + 1):\n",
    "        if data[j] < data[left]:\n",
    "            index += 1\n",
    "            data[j], data[index] = data[index], data[j]\n",
    "    data[index], data[left] = data[left], data[index]   #此時pivot = data[left], 而交換後可達成: 左子串列 < pivot < 右子串列 的形式\n",
    "    return index\n",
    "            "
   ]
  },
  {
   "cell_type": "code",
   "execution_count": 38,
   "metadata": {},
   "outputs": [
    {
     "data": {
      "text/plain": [
       "[42, 85, 6, 92, 93, 54, 71, 71, 45, 4]"
      ]
     },
     "execution_count": 38,
     "metadata": {},
     "output_type": "execute_result"
    }
   ],
   "source": [
    "import numpy as np\n",
    "data = list(np.random.randint(100, size = 10))\n",
    "data"
   ]
  },
  {
   "cell_type": "code",
   "execution_count": 39,
   "metadata": {},
   "outputs": [
    {
     "name": "stdout",
     "output_type": "stream",
     "text": [
      "pivot =  42\n",
      "\t [4, 6, 42, 92, 93, 54, 71, 71, 45, 85]\n",
      "pivot =  4\n",
      "\t [4, 6, 42, 92, 93, 54, 71, 71, 45, 85]\n",
      "pivot =  92\n",
      "\t [4, 6, 42, 85, 54, 71, 71, 45, 92, 93]\n",
      "pivot =  85\n",
      "\t [4, 6, 42, 45, 54, 71, 71, 85, 92, 93]\n",
      "pivot =  45\n",
      "\t [4, 6, 42, 45, 54, 71, 71, 85, 92, 93]\n",
      "pivot =  54\n",
      "\t [4, 6, 42, 45, 54, 71, 71, 85, 92, 93]\n",
      "pivot =  71\n",
      "\t [4, 6, 42, 45, 54, 71, 71, 85, 92, 93]\n"
     ]
    }
   ],
   "source": [
    "quickSort(data)"
   ]
  },
  {
   "cell_type": "code",
   "execution_count": null,
   "metadata": {},
   "outputs": [],
   "source": []
  }
 ],
 "metadata": {
  "kernelspec": {
   "display_name": "Python 3",
   "language": "python",
   "name": "python3"
  },
  "language_info": {
   "codemirror_mode": {
    "name": "ipython",
    "version": 3
   },
   "file_extension": ".py",
   "mimetype": "text/x-python",
   "name": "python",
   "nbconvert_exporter": "python",
   "pygments_lexer": "ipython3",
   "version": "3.6.8"
  }
 },
 "nbformat": 4,
 "nbformat_minor": 2
}

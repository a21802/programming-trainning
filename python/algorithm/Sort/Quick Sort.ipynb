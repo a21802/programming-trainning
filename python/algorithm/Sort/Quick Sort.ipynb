{
 "cells": [
  {
   "cell_type": "markdown",
   "metadata": {},
   "source": [
    "<hr>\n",
    "<h3>演算法流程:</h3><br>\n",
    "選定一個<b>基準值(pivot)</b><br>\n",
    "將<b>比pivot小</b>的數值移到pivot<b>左邊</b>，形成<b>左子串列</b><br>\n",
    "將<b>比pivot大</b>的數值移到pivot<b>右邊</b>，形成<b>右子串列</b><br>\n",
    "分別對<b>左子串列、右子串列</b>作上述三個步驟 ⇒ 遞迴(Recursive) \n",
    "<hr>"
   ]
  },
  {
   "cell_type": "code",
   "execution_count": 1,
   "metadata": {},
   "outputs": [],
   "source": [
    "def quickSort(data, left = 0, right = None):\n",
    "    if right == None:\n",
    "        right = len(data) - 1  # 初始化\n",
    "    if left< right:\n",
    "        pivotIndex = division(data, left, right) # pivotIndex將data分成左右子串列\n",
    "        print('pivot = ', data[pivotIndex])\n",
    "        print('\\t', data)\n",
    "        quickSort(data, left, pivotIndex - 1)   # 將左子串列做遞迴\n",
    "        quickSort(data, pivotIndex + 1, right)  # 將右子串列做遞迴\n",
    "    \n",
    "def division(data, left, right):\n",
    "    index = left\n",
    "    for j in range(left + 1, right + 1):\n",
    "        if data[j] < data[left]:\n",
    "            index += 1\n",
    "            data[j], data[index] = data[index], data[j]\n",
    "    data[index], data[left] = data[left], data[index]   #此時pivot = data[left], 而交換後可達成: 左子串列 < pivot < 右子串列 的形式\n",
    "    return index\n",
    "            "
   ]
  },
  {
   "cell_type": "code",
   "execution_count": 2,
   "metadata": {},
   "outputs": [
    {
     "data": {
      "text/plain": [
       "[29, 27, 98, 71, 48, 42, 40, 14, 12, 86]"
      ]
     },
     "execution_count": 2,
     "metadata": {},
     "output_type": "execute_result"
    }
   ],
   "source": [
    "import numpy as np\n",
    "data = list(np.random.randint(100, size = 10))\n",
    "data"
   ]
  },
  {
   "cell_type": "code",
   "execution_count": 3,
   "metadata": {},
   "outputs": [
    {
     "name": "stdout",
     "output_type": "stream",
     "text": [
      "pivot =  29\n",
      "\t [12, 27, 14, 29, 48, 42, 40, 98, 71, 86]\n",
      "pivot =  12\n",
      "\t [12, 27, 14, 29, 48, 42, 40, 98, 71, 86]\n",
      "pivot =  27\n",
      "\t [12, 14, 27, 29, 48, 42, 40, 98, 71, 86]\n",
      "pivot =  48\n",
      "\t [12, 14, 27, 29, 40, 42, 48, 98, 71, 86]\n",
      "pivot =  40\n",
      "\t [12, 14, 27, 29, 40, 42, 48, 98, 71, 86]\n",
      "pivot =  98\n",
      "\t [12, 14, 27, 29, 40, 42, 48, 86, 71, 98]\n",
      "pivot =  86\n",
      "\t [12, 14, 27, 29, 40, 42, 48, 71, 86, 98]\n"
     ]
    }
   ],
   "source": [
    "quickSort(data)"
   ]
  },
  {
   "cell_type": "code",
   "execution_count": null,
   "metadata": {},
   "outputs": [],
   "source": []
  }
 ],
 "metadata": {
  "kernelspec": {
   "display_name": "Python 3",
   "language": "python",
   "name": "python3"
  },
  "language_info": {
   "codemirror_mode": {
    "name": "ipython",
    "version": 3
   },
   "file_extension": ".py",
   "mimetype": "text/x-python",
   "name": "python",
   "nbconvert_exporter": "python",
   "pygments_lexer": "ipython3",
   "version": "3.7.3"
  }
 },
 "nbformat": 4,
 "nbformat_minor": 2
}

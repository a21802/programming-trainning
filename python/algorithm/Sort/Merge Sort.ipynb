{
 "cells": [
  {
   "cell_type": "markdown",
   "metadata": {},
   "source": [
    "<hr>\n",
    "<h3>演算法流程:</h3><br>\n",
    "先分割再合併, 以\"長度一半\"進行分割(遞迴), 直至分割後長度為1<br>\n",
    "合併時由左右串列最小值依序填入\n",
    "<hr>"
   ]
  },
  {
   "cell_type": "code",
   "execution_count": 24,
   "metadata": {},
   "outputs": [],
   "source": [
    "def mergeSort(data):\n",
    "    length = len(data) \n",
    "    if length > 1:\n",
    "        base = length // 2      #取整數商\n",
    "        leftArray = data[:base]  #取得數列左半部資料\n",
    "        rightArray = data[base:] #取得數列右半部資料\n",
    "        \n",
    "        print(data)\n",
    "        mergeSort(leftArray)    #針對數列左半部呼叫自身(遞廻)\n",
    "        mergeSort(rightArray)   #針對數列右半部呼叫自身(遞廻)\n",
    "             \n",
    "        lidx = ridx = idx = 0   #左、右、陣列的索引\n",
    "        leftLen = len(leftArray)\n",
    "        rightLen = len(rightArray)\n",
    "\n",
    "        while lidx < leftLen and ridx < rightLen:\n",
    "            if leftArray[lidx] < rightArray[ridx]:   \n",
    "                data[idx] = leftArray[lidx]  #左半部小值設給陣列\n",
    "                lidx += 1\n",
    "            else:\n",
    "                data[idx] = rightArray[ridx] #右半部若比較小就賦予陣列\n",
    "                ridx += 1\n",
    "            idx += 1 \n",
    "\n",
    "        while lidx < leftLen:  #左半部的長度小於陣列\n",
    "            data[idx] = leftArray[lidx]\n",
    "            lidx += 1; idx += 1\n",
    "      \n",
    "        while ridx < rightLen: #右半部的長度小於陣列\n",
    "            data[idx] = rightArray[ridx]\n",
    "            ridx += 1; idx += 1\n",
    "        print(data)"
   ]
  },
  {
   "cell_type": "code",
   "execution_count": 25,
   "metadata": {},
   "outputs": [
    {
     "data": {
      "text/plain": [
       "[12, 3, 66, 85, 75, 40, 87, 57, 5, 13]"
      ]
     },
     "execution_count": 25,
     "metadata": {},
     "output_type": "execute_result"
    }
   ],
   "source": [
    "import numpy as np\n",
    "data = list(np.random.randint(100, size = 10))\n",
    "data"
   ]
  },
  {
   "cell_type": "code",
   "execution_count": 26,
   "metadata": {},
   "outputs": [
    {
     "name": "stdout",
     "output_type": "stream",
     "text": [
      "[12, 3, 66, 85, 75, 40, 87, 57, 5, 13]\n",
      "[12, 3, 66, 85, 75]\n",
      "[12, 3]\n",
      "[3, 12]\n",
      "[66, 85, 75]\n",
      "[85, 75]\n",
      "[75, 85]\n",
      "[66, 75, 85]\n",
      "[3, 12, 66, 75, 85]\n",
      "[40, 87, 57, 5, 13]\n",
      "[40, 87]\n",
      "[40, 87]\n",
      "[57, 5, 13]\n",
      "[5, 13]\n",
      "[5, 13]\n",
      "[5, 13, 57]\n",
      "[5, 13, 40, 57, 87]\n",
      "[3, 5, 12, 13, 40, 57, 66, 75, 85, 87]\n"
     ]
    },
    {
     "data": {
      "text/plain": [
       "[3, 5, 12, 13, 40, 57, 66, 75, 85, 87]"
      ]
     },
     "execution_count": 26,
     "metadata": {},
     "output_type": "execute_result"
    }
   ],
   "source": [
    "mergeSort(data)\n",
    "data"
   ]
  },
  {
   "cell_type": "code",
   "execution_count": null,
   "metadata": {},
   "outputs": [],
   "source": []
  },
  {
   "cell_type": "code",
   "execution_count": null,
   "metadata": {},
   "outputs": [],
   "source": []
  }
 ],
 "metadata": {
  "kernelspec": {
   "display_name": "Python 3",
   "language": "python",
   "name": "python3"
  },
  "language_info": {
   "codemirror_mode": {
    "name": "ipython",
    "version": 3
   },
   "file_extension": ".py",
   "mimetype": "text/x-python",
   "name": "python",
   "nbconvert_exporter": "python",
   "pygments_lexer": "ipython3",
   "version": "3.7.3"
  }
 },
 "nbformat": 4,
 "nbformat_minor": 2
}

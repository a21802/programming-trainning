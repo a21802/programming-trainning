{
 "cells": [
  {
   "cell_type": "markdown",
   "metadata": {},
   "source": [
    "<hr>\n",
    "<h3>演算法流程:</h3><br>\n",
    "將資料排序模擬成一個(完全)二元樹,<br>\n",
    "若為最大堆積樹, 則父節點的值大於子節點的值(左右不重要), 樹根(root)是所有堆積樹中最大的<br>\n",
    "調整成最大堆積樹後, 將root(最大值)與最後一個節點交換, 將最後一個節點取出, 重做最大堆積樹\n",
    "<hr>"
   ]
  },
  {
   "cell_type": "code",
   "execution_count": 71,
   "metadata": {},
   "outputs": [],
   "source": [
    "show = False  #畫樹用, True開啟\n",
    "\n",
    "def heapify(data, root, length):\n",
    "    leftChild = root * 2 + 1     # Root的左子元素\n",
    "    rightChild = root * 2 + 2    # Root的右子元素\n",
    "    maxNode = None\n",
    "\n",
    "    # 找出root, leftChild, rightChild，值最大者(maxNode)\n",
    "    if(leftChild < length and (data[leftChild] > data[root])):\n",
    "        maxNode = leftChild\n",
    "    else:\n",
    "        maxNode = root\n",
    "        \n",
    "    if(rightChild < length and (data[rightChild] > data[maxNode])):\n",
    "        maxNode = rightChild\n",
    "\n",
    "    # 如果值最大者不是root，則作swap及heapify\n",
    "    if(maxNode != root):\n",
    "        data[root], data[maxNode] = data[maxNode], data[root]\n",
    "        \n",
    "        if show:\n",
    "            print('\\t', data)\n",
    "            showtree(data)\n",
    "            \n",
    "        heapify(data, maxNode, length)\n",
    "    \n",
    "def heapSort(data):\n",
    "    print('org:\\n\\t', data)\n",
    "    if show:\n",
    "        showtree(data)\n",
    "    \n",
    "    #將數列轉換成Max Heap\n",
    "    for i in range(len(data) // 2 - 1, -1, -1):\n",
    "        heapify(data, i, len(data))\n",
    "    print('='*50, '\\nmax heap:\\n\\t', data)\n",
    "    if show:\n",
    "        showtree(data)\n",
    "    \n",
    "    #排序\n",
    "    for i in range(len(data) - 1, 0, -1):\n",
    "        data[0], data[i] = data[i], data[0]\n",
    "        heapify(data, 0, i)\n",
    "        if show:\n",
    "            print('\\t', data)\n",
    "            showtree(data)\n",
    "    print('='*50, '\\nend:\\n\\t', data)\n",
    "    if show:\n",
    "        showtree(data)\n",
    "    \n",
    "def showtree(data): # 畫有10筆資料的二元樹\n",
    "    print('-'*50, '\\ntree:\\n', ' '*13, data[0])\n",
    "    print(' '*6, data[1], ' '*11, data[2])\n",
    "    print(' '*2, data[3], ' '*4, data[4], ' '*3, data[5], ' '*4, data[6])\n",
    "    print(data[7], ' '*1, data[8], ' '*1, data[9])\n",
    "    print('-'*50)"
   ]
  },
  {
   "cell_type": "code",
   "execution_count": 72,
   "metadata": {},
   "outputs": [],
   "source": [
    "import numpy as np\n",
    "np.random.seed(12)\n",
    "data = list(np.random.randint(100, size = 10))"
   ]
  },
  {
   "cell_type": "code",
   "execution_count": 73,
   "metadata": {},
   "outputs": [
    {
     "name": "stdout",
     "output_type": "stream",
     "text": [
      "org:\n",
      "\t [75, 27, 6, 2, 3, 67, 76, 48, 22, 49]\n",
      "================================================== \n",
      "max heap:\n",
      "\t [76, 49, 75, 48, 27, 67, 6, 2, 22, 3]\n",
      "================================================== \n",
      "end:\n",
      "\t [2, 3, 6, 22, 27, 48, 49, 67, 75, 76]\n"
     ]
    }
   ],
   "source": [
    "heapSort(data)"
   ]
  }
 ],
 "metadata": {
  "kernelspec": {
   "display_name": "Python 3",
   "language": "python",
   "name": "python3"
  },
  "language_info": {
   "codemirror_mode": {
    "name": "ipython",
    "version": 3
   },
   "file_extension": ".py",
   "mimetype": "text/x-python",
   "name": "python",
   "nbconvert_exporter": "python",
   "pygments_lexer": "ipython3",
   "version": "3.7.3"
  }
 },
 "nbformat": 4,
 "nbformat_minor": 2
}

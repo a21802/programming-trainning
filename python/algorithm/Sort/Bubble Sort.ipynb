{
 "cells": [
  {
   "cell_type": "markdown",
   "metadata": {},
   "source": [
    "<hr>\n",
    "<h3>演算法流程:</h3><br>\n",
    "由資料<b>第一項</b>與<b>第二項</b>做比對,<br>\n",
    "若<b>第一項</b> > <b>第二項</b>則進行交換,<br>\n",
    "接下來<b>第二項</b>與<b>第三項</b>做比對, 以此類推<br>\n",
    "直到資料最大的元素移至最右邊, 再從頭開始相同流程\n",
    "<hr>"
   ]
  },
  {
   "cell_type": "code",
   "execution_count": 98,
   "metadata": {},
   "outputs": [],
   "source": [
    "def bubbleSort(data):\n",
    "    print('org:')\n",
    "    print('\\t', data)\n",
    "    size = len(data)\n",
    "    flag = True\n",
    "    \n",
    "    for i in range(size - 1):\n",
    "        print('='*50)\n",
    "        print('i = ', i)\n",
    "        flag = False\n",
    "        for j in range(size - i - 1):\n",
    "            if data[j + 1] < data[j]:\n",
    "                data[j], data[j + 1] = data[j + 1], data[j]\n",
    "                print('\\t', data)\n",
    "                flag = True\n",
    "        if not flag:\n",
    "            break\n",
    "    print('='*50)\n",
    "    print('end:')\n",
    "    print('\\t', data)"
   ]
  },
  {
   "cell_type": "code",
   "execution_count": 99,
   "metadata": {},
   "outputs": [],
   "source": [
    "import numpy as np\n",
    "np.random.seed(10)\n",
    "data = list(np.random.randint(100, size = 10))\n"
   ]
  },
  {
   "cell_type": "code",
   "execution_count": 100,
   "metadata": {},
   "outputs": [
    {
     "name": "stdout",
     "output_type": "stream",
     "text": [
      "org:\n",
      "\t [9, 15, 64, 28, 89, 93, 29, 8, 73, 0]\n",
      "==================================================\n",
      "i =  0\n",
      "\t [9, 15, 28, 64, 89, 93, 29, 8, 73, 0]\n",
      "\t [9, 15, 28, 64, 89, 29, 93, 8, 73, 0]\n",
      "\t [9, 15, 28, 64, 89, 29, 8, 93, 73, 0]\n",
      "\t [9, 15, 28, 64, 89, 29, 8, 73, 93, 0]\n",
      "\t [9, 15, 28, 64, 89, 29, 8, 73, 0, 93]\n",
      "==================================================\n",
      "i =  1\n",
      "\t [9, 15, 28, 64, 29, 89, 8, 73, 0, 93]\n",
      "\t [9, 15, 28, 64, 29, 8, 89, 73, 0, 93]\n",
      "\t [9, 15, 28, 64, 29, 8, 73, 89, 0, 93]\n",
      "\t [9, 15, 28, 64, 29, 8, 73, 0, 89, 93]\n",
      "==================================================\n",
      "i =  2\n",
      "\t [9, 15, 28, 29, 64, 8, 73, 0, 89, 93]\n",
      "\t [9, 15, 28, 29, 8, 64, 73, 0, 89, 93]\n",
      "\t [9, 15, 28, 29, 8, 64, 0, 73, 89, 93]\n",
      "==================================================\n",
      "i =  3\n",
      "\t [9, 15, 28, 8, 29, 64, 0, 73, 89, 93]\n",
      "\t [9, 15, 28, 8, 29, 0, 64, 73, 89, 93]\n",
      "==================================================\n",
      "i =  4\n",
      "\t [9, 15, 8, 28, 29, 0, 64, 73, 89, 93]\n",
      "\t [9, 15, 8, 28, 0, 29, 64, 73, 89, 93]\n",
      "==================================================\n",
      "i =  5\n",
      "\t [9, 8, 15, 28, 0, 29, 64, 73, 89, 93]\n",
      "\t [9, 8, 15, 0, 28, 29, 64, 73, 89, 93]\n",
      "==================================================\n",
      "i =  6\n",
      "\t [8, 9, 15, 0, 28, 29, 64, 73, 89, 93]\n",
      "\t [8, 9, 0, 15, 28, 29, 64, 73, 89, 93]\n",
      "==================================================\n",
      "i =  7\n",
      "\t [8, 0, 9, 15, 28, 29, 64, 73, 89, 93]\n",
      "==================================================\n",
      "i =  8\n",
      "\t [0, 8, 9, 15, 28, 29, 64, 73, 89, 93]\n",
      "==================================================\n",
      "end:\n",
      "\t [0, 8, 9, 15, 28, 29, 64, 73, 89, 93]\n"
     ]
    }
   ],
   "source": [
    "bubbleSort(data)"
   ]
  },
  {
   "cell_type": "code",
   "execution_count": null,
   "metadata": {},
   "outputs": [],
   "source": []
  },
  {
   "cell_type": "code",
   "execution_count": null,
   "metadata": {},
   "outputs": [],
   "source": []
  }
 ],
 "metadata": {
  "kernelspec": {
   "display_name": "Python 3",
   "language": "python",
   "name": "python3"
  },
  "language_info": {
   "codemirror_mode": {
    "name": "ipython",
    "version": 3
   },
   "file_extension": ".py",
   "mimetype": "text/x-python",
   "name": "python",
   "nbconvert_exporter": "python",
   "pygments_lexer": "ipython3",
   "version": "3.7.3"
  }
 },
 "nbformat": 4,
 "nbformat_minor": 2
}

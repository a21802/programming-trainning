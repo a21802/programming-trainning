{
 "cells": [
  {
   "cell_type": "markdown",
   "metadata": {},
   "source": [
    "<hr>\n",
    "<h3>演算法流程:</h3><br>\n",
    "搜尋未排序資料的最小者, 移至未排序資料的最左端\n",
    "<hr>"
   ]
  },
  {
   "cell_type": "code",
   "execution_count": 19,
   "metadata": {},
   "outputs": [],
   "source": [
    "def SelectionSort(data):\n",
    "    print('org:')\n",
    "    print('\\t', data)\n",
    "    size = len(data)\n",
    "    \n",
    "    for i in range(size):\n",
    "        minimum = min(range(i, size), key = data.__getitem__)\n",
    "        data[i], data[minimum] = data[minimum], data[i]\n",
    "        print('='*50)\n",
    "        print('i = ', i, '\\nminimum = ', minimum)\n",
    "        print('\\t', data)\n",
    "    \n",
    "    print('='*50)\n",
    "    print('end:')\n",
    "    print('\\t', data)"
   ]
  },
  {
   "cell_type": "code",
   "execution_count": 20,
   "metadata": {},
   "outputs": [],
   "source": [
    "import numpy as np\n",
    "np.random.seed(10)\n",
    "data = list(np.random.randint(100, size = 10))"
   ]
  },
  {
   "cell_type": "code",
   "execution_count": 21,
   "metadata": {},
   "outputs": [
    {
     "name": "stdout",
     "output_type": "stream",
     "text": [
      "org:\n",
      "\t [9, 15, 64, 28, 89, 93, 29, 8, 73, 0]\n",
      "==================================================\n",
      "i =  0 \n",
      "minimum =  9\n",
      "\t [0, 15, 64, 28, 89, 93, 29, 8, 73, 9]\n",
      "==================================================\n",
      "i =  1 \n",
      "minimum =  7\n",
      "\t [0, 8, 64, 28, 89, 93, 29, 15, 73, 9]\n",
      "==================================================\n",
      "i =  2 \n",
      "minimum =  9\n",
      "\t [0, 8, 9, 28, 89, 93, 29, 15, 73, 64]\n",
      "==================================================\n",
      "i =  3 \n",
      "minimum =  7\n",
      "\t [0, 8, 9, 15, 89, 93, 29, 28, 73, 64]\n",
      "==================================================\n",
      "i =  4 \n",
      "minimum =  7\n",
      "\t [0, 8, 9, 15, 28, 93, 29, 89, 73, 64]\n",
      "==================================================\n",
      "i =  5 \n",
      "minimum =  6\n",
      "\t [0, 8, 9, 15, 28, 29, 93, 89, 73, 64]\n",
      "==================================================\n",
      "i =  6 \n",
      "minimum =  9\n",
      "\t [0, 8, 9, 15, 28, 29, 64, 89, 73, 93]\n",
      "==================================================\n",
      "i =  7 \n",
      "minimum =  8\n",
      "\t [0, 8, 9, 15, 28, 29, 64, 73, 89, 93]\n",
      "==================================================\n",
      "i =  8 \n",
      "minimum =  8\n",
      "\t [0, 8, 9, 15, 28, 29, 64, 73, 89, 93]\n",
      "==================================================\n",
      "i =  9 \n",
      "minimum =  9\n",
      "\t [0, 8, 9, 15, 28, 29, 64, 73, 89, 93]\n",
      "==================================================\n",
      "end:\n",
      "\t [0, 8, 9, 15, 28, 29, 64, 73, 89, 93]\n"
     ]
    }
   ],
   "source": [
    "SelectionSort(data)"
   ]
  },
  {
   "cell_type": "code",
   "execution_count": null,
   "metadata": {},
   "outputs": [],
   "source": []
  }
 ],
 "metadata": {
  "kernelspec": {
   "display_name": "Python 3",
   "language": "python",
   "name": "python3"
  },
  "language_info": {
   "codemirror_mode": {
    "name": "ipython",
    "version": 3
   },
   "file_extension": ".py",
   "mimetype": "text/x-python",
   "name": "python",
   "nbconvert_exporter": "python",
   "pygments_lexer": "ipython3",
   "version": "3.6.8"
  }
 },
 "nbformat": 4,
 "nbformat_minor": 2
}

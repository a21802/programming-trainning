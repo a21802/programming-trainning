{
 "cells": [
  {
   "cell_type": "code",
   "execution_count": 2,
   "metadata": {},
   "outputs": [],
   "source": [
    "import numpy\n",
    "import pandas as pd\n",
    "from sklearn import preprocessing\n",
    "numpy.random.seed(10)"
   ]
  },
  {
   "cell_type": "code",
   "execution_count": 3,
   "metadata": {},
   "outputs": [],
   "source": [
    "all_df = pd.read_excel('data/titanic3.xls')"
   ]
  },
  {
   "cell_type": "code",
   "execution_count": 4,
   "metadata": {},
   "outputs": [],
   "source": [
    "cols = ['survived', 'name', 'pclass', 'sex', 'age', 'sibsp', 'parch', 'fare', 'embarked']\n",
    "all_df = all_df[cols]"
   ]
  },
  {
   "cell_type": "code",
   "execution_count": 5,
   "metadata": {},
   "outputs": [],
   "source": [
    "msk = numpy.random.rand(len(all_df)) < 0.8\n",
    "train_df = all_df[msk]\n",
    "test_df = all_df[~msk]"
   ]
  },
  {
   "cell_type": "code",
   "execution_count": 6,
   "metadata": {},
   "outputs": [
    {
     "name": "stdout",
     "output_type": "stream",
     "text": [
      "total:  1309 \n",
      "train:  1034 \n",
      "test:  275\n"
     ]
    }
   ],
   "source": [
    "print('total: ', len(all_df),\n",
    "      '\\ntrain: ', len(train_df), \n",
    "      '\\ntest: ', len(test_df))"
   ]
  },
  {
   "cell_type": "code",
   "execution_count": 7,
   "metadata": {},
   "outputs": [],
   "source": [
    "def PreprocessData(raw_df):\n",
    "    df = raw_df.drop(['name'], axis = 1)\n",
    "    age_mean = df['age'].mean()\n",
    "    df['age'] = df['age'].fillna(age_mean)\n",
    "    fare_mean = df['fare'].mean()\n",
    "    df['fare'] = df['fare'].fillna(fare_mean)\n",
    "    df['sex'] = df['sex'].map({'female': 0, 'male': 1}).astype(int)\n",
    "    y_One_Hot_df = pd.get_dummies(data = df, columns = ['embarked'])\n",
    "    \n",
    "    ndarray = y_One_Hot_df.values\n",
    "    Features = ndarray[:, 1:]\n",
    "    Label = ndarray[:, 0]\n",
    "    \n",
    "    minmax_scale = preprocessing.MinMaxScaler(feature_range = (0, 1))\n",
    "    scaledFeature = minmax_scale.fit_transform(Features)\n",
    "    \n",
    "    return scaledFeature, Label"
   ]
  },
  {
   "cell_type": "code",
   "execution_count": 23,
   "metadata": {},
   "outputs": [],
   "source": [
    "train_Features, train_Label = PreprocessData(train_df)\n",
    "test_Features, test_Label = PreprocessData(test_df)"
   ]
  },
  {
   "cell_type": "markdown",
   "metadata": {},
   "source": [
    "<hr>\n",
    "建立模型\n",
    "<hr>"
   ]
  },
  {
   "cell_type": "code",
   "execution_count": 9,
   "metadata": {},
   "outputs": [
    {
     "name": "stderr",
     "output_type": "stream",
     "text": [
      "Using TensorFlow backend.\n"
     ]
    }
   ],
   "source": [
    "from keras.models import Sequential\n",
    "from keras.layers import Dense, Dropout"
   ]
  },
  {
   "cell_type": "code",
   "execution_count": 10,
   "metadata": {},
   "outputs": [
    {
     "name": "stderr",
     "output_type": "stream",
     "text": [
      "WARNING: Logging before flag parsing goes to stderr.\n",
      "W0709 18:48:23.647758  6536 deprecation_wrapper.py:119] From C:\\Users\\User\\Anaconda3\\envs\\tensorflow\\lib\\site-packages\\keras\\backend\\tensorflow_backend.py:74: The name tf.get_default_graph is deprecated. Please use tf.compat.v1.get_default_graph instead.\n",
      "\n"
     ]
    }
   ],
   "source": [
    "model = Sequential()"
   ]
  },
  {
   "cell_type": "code",
   "execution_count": 11,
   "metadata": {},
   "outputs": [
    {
     "name": "stderr",
     "output_type": "stream",
     "text": [
      "W0709 18:50:13.778118  6536 deprecation_wrapper.py:119] From C:\\Users\\User\\Anaconda3\\envs\\tensorflow\\lib\\site-packages\\keras\\backend\\tensorflow_backend.py:517: The name tf.placeholder is deprecated. Please use tf.compat.v1.placeholder instead.\n",
      "\n",
      "W0709 18:50:13.780113  6536 deprecation_wrapper.py:119] From C:\\Users\\User\\Anaconda3\\envs\\tensorflow\\lib\\site-packages\\keras\\backend\\tensorflow_backend.py:4138: The name tf.random_uniform is deprecated. Please use tf.random.uniform instead.\n",
      "\n"
     ]
    }
   ],
   "source": [
    "model.add(Dense(units = 40,\n",
    "                input_dim = 9,\n",
    "                kernel_initializer = 'uniform',\n",
    "                activation = 'relu'))"
   ]
  },
  {
   "cell_type": "code",
   "execution_count": 12,
   "metadata": {},
   "outputs": [],
   "source": [
    "model.add(Dense(units = 30,\n",
    "                kernel_initializer = 'uniform',\n",
    "                activation = 'relu'))"
   ]
  },
  {
   "cell_type": "code",
   "execution_count": 13,
   "metadata": {},
   "outputs": [],
   "source": [
    "model.add(Dense(units = 1,\n",
    "                kernel_initializer = 'uniform',\n",
    "                activation = 'sigmoid'))"
   ]
  },
  {
   "cell_type": "markdown",
   "metadata": {},
   "source": [
    "<hr>\n",
    "開始訓練\n",
    "<hr>"
   ]
  },
  {
   "cell_type": "code",
   "execution_count": 17,
   "metadata": {},
   "outputs": [
    {
     "name": "stderr",
     "output_type": "stream",
     "text": [
      "W0709 18:56:33.912636  6536 deprecation.py:323] From C:\\Users\\User\\Anaconda3\\envs\\tensorflow\\lib\\site-packages\\tensorflow\\python\\ops\\nn_impl.py:180: add_dispatch_support.<locals>.wrapper (from tensorflow.python.ops.array_ops) is deprecated and will be removed in a future version.\n",
      "Instructions for updating:\n",
      "Use tf.where in 2.0, which has the same broadcast rule as np.where\n"
     ]
    }
   ],
   "source": [
    "model.compile(loss = 'binary_crossentropy',\n",
    "              optimizer = 'adam', \n",
    "              metrics = ['accuracy'])"
   ]
  },
  {
   "cell_type": "code",
   "execution_count": 18,
   "metadata": {},
   "outputs": [
    {
     "name": "stderr",
     "output_type": "stream",
     "text": [
      "W0709 18:56:34.716757  6536 deprecation_wrapper.py:119] From C:\\Users\\User\\Anaconda3\\envs\\tensorflow\\lib\\site-packages\\keras\\backend\\tensorflow_backend.py:986: The name tf.assign_add is deprecated. Please use tf.compat.v1.assign_add instead.\n",
      "\n"
     ]
    },
    {
     "name": "stdout",
     "output_type": "stream",
     "text": [
      "Train on 930 samples, validate on 104 samples\n",
      "Epoch 1/30\n",
      " - 0s - loss: 0.6900 - acc: 0.5774 - val_loss: 0.6709 - val_acc: 0.7885\n",
      "Epoch 2/30\n",
      " - 0s - loss: 0.6683 - acc: 0.5957 - val_loss: 0.5927 - val_acc: 0.7885\n",
      "Epoch 3/30\n",
      " - 0s - loss: 0.6112 - acc: 0.6667 - val_loss: 0.4954 - val_acc: 0.8173\n",
      "Epoch 4/30\n",
      " - 0s - loss: 0.5468 - acc: 0.7634 - val_loss: 0.4634 - val_acc: 0.7596\n",
      "Epoch 5/30\n",
      " - 0s - loss: 0.5074 - acc: 0.7624 - val_loss: 0.4545 - val_acc: 0.7885\n",
      "Epoch 6/30\n",
      " - 0s - loss: 0.4916 - acc: 0.7645 - val_loss: 0.4405 - val_acc: 0.7788\n",
      "Epoch 7/30\n",
      " - 0s - loss: 0.4828 - acc: 0.7591 - val_loss: 0.4433 - val_acc: 0.7885\n",
      "Epoch 8/30\n",
      " - 0s - loss: 0.4795 - acc: 0.7570 - val_loss: 0.4362 - val_acc: 0.7981\n",
      "Epoch 9/30\n",
      " - 0s - loss: 0.4738 - acc: 0.7634 - val_loss: 0.4284 - val_acc: 0.7885\n",
      "Epoch 10/30\n",
      " - 0s - loss: 0.4704 - acc: 0.7742 - val_loss: 0.4267 - val_acc: 0.7981\n",
      "Epoch 11/30\n",
      " - 0s - loss: 0.4664 - acc: 0.7613 - val_loss: 0.4242 - val_acc: 0.8077\n",
      "Epoch 12/30\n",
      " - 0s - loss: 0.4644 - acc: 0.7763 - val_loss: 0.4202 - val_acc: 0.8365\n",
      "Epoch 13/30\n",
      " - 0s - loss: 0.4627 - acc: 0.7806 - val_loss: 0.4201 - val_acc: 0.8365\n",
      "Epoch 14/30\n",
      " - 0s - loss: 0.4612 - acc: 0.7763 - val_loss: 0.4203 - val_acc: 0.8365\n",
      "Epoch 15/30\n",
      " - 0s - loss: 0.4631 - acc: 0.7839 - val_loss: 0.4220 - val_acc: 0.8173\n",
      "Epoch 16/30\n",
      " - 0s - loss: 0.4569 - acc: 0.7796 - val_loss: 0.4176 - val_acc: 0.8365\n",
      "Epoch 17/30\n",
      " - 0s - loss: 0.4558 - acc: 0.7849 - val_loss: 0.4184 - val_acc: 0.8365\n",
      "Epoch 18/30\n",
      " - 0s - loss: 0.4549 - acc: 0.7892 - val_loss: 0.4146 - val_acc: 0.7981\n",
      "Epoch 19/30\n",
      " - 0s - loss: 0.4544 - acc: 0.7946 - val_loss: 0.4216 - val_acc: 0.8173\n",
      "Epoch 20/30\n",
      " - 0s - loss: 0.4518 - acc: 0.7892 - val_loss: 0.4152 - val_acc: 0.8173\n",
      "Epoch 21/30\n",
      " - 0s - loss: 0.4519 - acc: 0.7925 - val_loss: 0.4152 - val_acc: 0.8173\n",
      "Epoch 22/30\n",
      " - 0s - loss: 0.4504 - acc: 0.7935 - val_loss: 0.4155 - val_acc: 0.8269\n",
      "Epoch 23/30\n",
      " - 0s - loss: 0.4532 - acc: 0.7892 - val_loss: 0.4161 - val_acc: 0.8173\n",
      "Epoch 24/30\n",
      " - 0s - loss: 0.4500 - acc: 0.7871 - val_loss: 0.4173 - val_acc: 0.8269\n",
      "Epoch 25/30\n",
      " - 0s - loss: 0.4505 - acc: 0.7903 - val_loss: 0.4189 - val_acc: 0.8269\n",
      "Epoch 26/30\n",
      " - 0s - loss: 0.4511 - acc: 0.8000 - val_loss: 0.4178 - val_acc: 0.8269\n",
      "Epoch 27/30\n",
      " - 0s - loss: 0.4475 - acc: 0.8011 - val_loss: 0.4162 - val_acc: 0.8173\n",
      "Epoch 28/30\n",
      " - 0s - loss: 0.4506 - acc: 0.7871 - val_loss: 0.4155 - val_acc: 0.8077\n",
      "Epoch 29/30\n",
      " - 0s - loss: 0.4474 - acc: 0.7946 - val_loss: 0.4175 - val_acc: 0.8269\n",
      "Epoch 30/30\n",
      " - 0s - loss: 0.4532 - acc: 0.7935 - val_loss: 0.4169 - val_acc: 0.8269\n"
     ]
    }
   ],
   "source": [
    "train_history = model.fit(x = train_Features, \n",
    "                          y = train_Label, validation_split = 0.1, \n",
    "                          epochs = 30, batch_size = 30, verbose = 2)"
   ]
  },
  {
   "cell_type": "code",
   "execution_count": 19,
   "metadata": {},
   "outputs": [],
   "source": [
    "import matplotlib.pyplot as plt\n",
    "def show_train_histoy(train_history, train, validation):\n",
    "    plt.plot(train_history.history[train])\n",
    "    plt.plot(train_history.history[validation])\n",
    "    plt.title('Train History')\n",
    "    plt.ylabel(train)\n",
    "    plt.xlabel('Epoch')\n",
    "    plt.legend(['train', 'validation'], loc = 'upper left')\n",
    "    plt.show()"
   ]
  },
  {
   "cell_type": "code",
   "execution_count": 20,
   "metadata": {},
   "outputs": [
    {
     "data": {
      "image/png": "[encoded data removed]",
      "text/plain": [
       "<Figure size 432x288 with 1 Axes>"
      ]
     },
     "metadata": {
      "needs_background": "light"
     },
     "output_type": "display_data"
    }
   ],
   "source": [
    "show_train_histoy(train_history, 'acc', 'val_acc')"
   ]
  },
  {
   "cell_type": "code",
   "execution_count": 21,
   "metadata": {},
   "outputs": [
    {
     "data": {
      "image/png": "[encoded data removed]",
      "text/plain": [
       "<Figure size 432x288 with 1 Axes>"
      ]
     },
     "metadata": {
      "needs_background": "light"
     },
     "output_type": "display_data"
    }
   ],
   "source": [
    "show_train_histoy(train_history, 'loss', 'val_loss')"
   ]
  },
  {
   "cell_type": "code",
   "execution_count": 24,
   "metadata": {},
   "outputs": [
    {
     "name": "stdout",
     "output_type": "stream",
     "text": [
      "275/275 [==============================] - 0s 14us/step\n"
     ]
    }
   ],
   "source": [
    "scores = model.evaluate(x = test_Features, y = test_Label)"
   ]
  },
  {
   "cell_type": "code",
   "execution_count": 26,
   "metadata": {},
   "outputs": [
    {
     "data": {
      "text/plain": [
       "0.8145454549789428"
      ]
     },
     "execution_count": 26,
     "metadata": {},
     "output_type": "execute_result"
    }
   ],
   "source": [
    "scores[1]"
   ]
  },
  {
   "cell_type": "code",
   "execution_count": null,
   "metadata": {},
   "outputs": [],
   "source": []
  }
 ],
 "metadata": {
  "kernelspec": {
   "display_name": "Python 3",
   "language": "python",
   "name": "python3"
  },
  "language_info": {
   "codemirror_mode": {
    "name": "ipython",
    "version": 3
   },
   "file_extension": ".py",
   "mimetype": "text/x-python",
   "name": "python",
   "nbconvert_exporter": "python",
   "pygments_lexer": "ipython3",
   "version": "3.6.8"
  }
 },
 "nbformat": 4,
 "nbformat_minor": 2
}
